{
 "cells": [
  {
   "cell_type": "markdown",
   "metadata": {},
   "source": [
    "## 서울시 공공데이터 포털에서 OpenAPI 활용하여 원하는 데이터 셋을 가져옵니다.\n",
    "\n",
    "1) 서울시 지하철 월/시간대 별 유동인구 공공데이터\n",
    "\n",
    "2) 서울시 일자 별 코로나 확진자 현황 공공데이터\n",
    "\n",
    "위 데이터를 조합해서 서울시 코로나 확진자에 따른 지하철 유동인구가 어떻게 변화하는지 살펴보려고 합니다."
   ]
  },
  {
   "cell_type": "code",
   "execution_count": 1,
   "metadata": {},
   "outputs": [],
   "source": [
    "import requests\n",
    "import json\n",
    "import pandas as pd"
   ]
  },
  {
   "cell_type": "markdown",
   "metadata": {},
   "source": [
    "### Open API 사용하여 데이터 획득하기\n",
    "\n",
    "- <a href='https://data.seoul.go.kr/dataList/OA-12252/S/1/datasetView.do'> 서울시 지하철 월/시간대 별 유동인구 데이터 </a>\n",
    "\n",
    "-  <a href='https://data.seoul.go.kr/dataList/OA-20279/S/1/datasetView.do'> 서울시 코로나19 확진자 현황 </a>\n",
    "\n",
    "1) 공공데이터 포털사이트 접속 및 가입, 로그인\n",
    "\n",
    "2) OpenAPI 사용 신청\n",
    "\n",
    "3) Key 획득"
   ]
  },
  {
   "cell_type": "markdown",
   "metadata": {},
   "source": [
    "### 발급 받은 key값 입력\n",
    "오픈 API 사용 신청하면, 사용자마다 고유한 Key 값을 제공해준다."
   ]
  },
  {
   "cell_type": "code",
   "execution_count": 2,
   "metadata": {},
   "outputs": [],
   "source": [
    "my_key='4c49554a7a68616e38304c64556d49'"
   ]
  },
  {
   "cell_type": "markdown",
   "metadata": {},
   "source": [
    "## 1) 서울시 지하철 공공데이터 "
   ]
  },
  {
   "cell_type": "markdown",
   "metadata": {},
   "source": [
    "### endpoint 확인\n",
    "- 오픈API 서비스되는 서버의 ip 혹은 domain 주소\n",
    "- api활용 문서 확인해보면 endpoint 확인할 수 있는 코드 들어있으므로 복사해서 사용한다.\n",
    "- datatype: xml 혹은 json 설정하여 받아오는데 최근에는 json 형식 많이 사용\n",
    "- serviceKey에 위에 발급받은 key값 할당해준다.\n",
    "\n",
    "- url 가져올때 샘플 url에 설명있음 -> 가져오고 싶은 범위 설정 가능 "
   ]
  },
  {
   "cell_type": "code",
   "execution_count": 19,
   "metadata": {},
   "outputs": [],
   "source": [
    "endpoint=f\"http://openapi.seoul.go.kr:8088/{my_key}/json/CardSubwayTime/1/1000/202001/\""
   ]
  },
  {
   "cell_type": "markdown",
   "metadata": {},
   "source": [
    "KEY: OpenAPI 발급된 키\n",
    "\n",
    "TYPE: xml , xls , json 선택가능"
   ]
  },
  {
   "cell_type": "code",
   "execution_count": 20,
   "metadata": {
    "scrolled": true
   },
   "outputs": [],
   "source": [
    "#api 호출\n",
    "resp=requests.get(endpoint)"
   ]
  },
  {
   "cell_type": "code",
   "execution_count": 21,
   "metadata": {},
   "outputs": [],
   "source": [
    "data=resp.json()"
   ]
  },
  {
   "cell_type": "code",
   "execution_count": 22,
   "metadata": {},
   "outputs": [
    {
     "data": {
      "text/html": [
       "<div>\n",
       "<style scoped>\n",
       "    .dataframe tbody tr th:only-of-type {\n",
       "        vertical-align: middle;\n",
       "    }\n",
       "\n",
       "    .dataframe tbody tr th {\n",
       "        vertical-align: top;\n",
       "    }\n",
       "\n",
       "    .dataframe thead th {\n",
       "        text-align: right;\n",
       "    }\n",
       "</style>\n",
       "<table border=\"1\" class=\"dataframe\">\n",
       "  <thead>\n",
       "    <tr style=\"text-align: right;\">\n",
       "      <th></th>\n",
       "      <th>USE_MON</th>\n",
       "      <th>LINE_NUM</th>\n",
       "      <th>SUB_STA_NM</th>\n",
       "      <th>FOUR_RIDE_NUM</th>\n",
       "      <th>FOUR_ALIGHT_NUM</th>\n",
       "      <th>FIVE_RIDE_NUM</th>\n",
       "      <th>FIVE_ALIGHT_NUM</th>\n",
       "      <th>SIX_RIDE_NUM</th>\n",
       "      <th>SIX_ALIGHT_NUM</th>\n",
       "      <th>SEVEN_RIDE_NUM</th>\n",
       "      <th>...</th>\n",
       "      <th>TWENTY_THREE_ALIGHT_NUM</th>\n",
       "      <th>MIDNIGHT_RIDE_NUM</th>\n",
       "      <th>MIDNIGHT_ALIGHT_NUM</th>\n",
       "      <th>ONE_RIDE_NUM</th>\n",
       "      <th>ONE_ALIGHT_NUM</th>\n",
       "      <th>TWO_RIDE_NUM</th>\n",
       "      <th>TWO_ALIGHT_NUM</th>\n",
       "      <th>THREE_RIDE_NUM</th>\n",
       "      <th>THREE_ALIGHT_NUM</th>\n",
       "      <th>WORK_DT</th>\n",
       "    </tr>\n",
       "  </thead>\n",
       "  <tbody>\n",
       "    <tr>\n",
       "      <th>0</th>\n",
       "      <td>202001</td>\n",
       "      <td>8호선</td>\n",
       "      <td>산성</td>\n",
       "      <td>22.0</td>\n",
       "      <td>0.0</td>\n",
       "      <td>4469.0</td>\n",
       "      <td>865.0</td>\n",
       "      <td>7308.0</td>\n",
       "      <td>5246.0</td>\n",
       "      <td>17343.0</td>\n",
       "      <td>...</td>\n",
       "      <td>5877.0</td>\n",
       "      <td>162.0</td>\n",
       "      <td>1885.0</td>\n",
       "      <td>1.0</td>\n",
       "      <td>8.0</td>\n",
       "      <td>0.0</td>\n",
       "      <td>0.0</td>\n",
       "      <td>0.0</td>\n",
       "      <td>0.0</td>\n",
       "      <td>20200203</td>\n",
       "    </tr>\n",
       "    <tr>\n",
       "      <th>1</th>\n",
       "      <td>202001</td>\n",
       "      <td>1호선</td>\n",
       "      <td>서울역</td>\n",
       "      <td>908.0</td>\n",
       "      <td>18.0</td>\n",
       "      <td>8948.0</td>\n",
       "      <td>7940.0</td>\n",
       "      <td>13146.0</td>\n",
       "      <td>47332.0</td>\n",
       "      <td>37251.0</td>\n",
       "      <td>...</td>\n",
       "      <td>17549.0</td>\n",
       "      <td>4190.0</td>\n",
       "      <td>5633.0</td>\n",
       "      <td>98.0</td>\n",
       "      <td>291.0</td>\n",
       "      <td>0.0</td>\n",
       "      <td>8.0</td>\n",
       "      <td>0.0</td>\n",
       "      <td>0.0</td>\n",
       "      <td>20200203</td>\n",
       "    </tr>\n",
       "    <tr>\n",
       "      <th>2</th>\n",
       "      <td>202001</td>\n",
       "      <td>1호선</td>\n",
       "      <td>시청</td>\n",
       "      <td>55.0</td>\n",
       "      <td>0.0</td>\n",
       "      <td>1999.0</td>\n",
       "      <td>3976.0</td>\n",
       "      <td>3497.0</td>\n",
       "      <td>19177.0</td>\n",
       "      <td>7417.0</td>\n",
       "      <td>...</td>\n",
       "      <td>3747.0</td>\n",
       "      <td>556.0</td>\n",
       "      <td>1063.0</td>\n",
       "      <td>7.0</td>\n",
       "      <td>38.0</td>\n",
       "      <td>0.0</td>\n",
       "      <td>0.0</td>\n",
       "      <td>0.0</td>\n",
       "      <td>0.0</td>\n",
       "      <td>20200203</td>\n",
       "    </tr>\n",
       "    <tr>\n",
       "      <th>3</th>\n",
       "      <td>202001</td>\n",
       "      <td>1호선</td>\n",
       "      <td>종각</td>\n",
       "      <td>126.0</td>\n",
       "      <td>5.0</td>\n",
       "      <td>4380.0</td>\n",
       "      <td>4683.0</td>\n",
       "      <td>4456.0</td>\n",
       "      <td>25858.0</td>\n",
       "      <td>6286.0</td>\n",
       "      <td>...</td>\n",
       "      <td>5038.0</td>\n",
       "      <td>2896.0</td>\n",
       "      <td>1577.0</td>\n",
       "      <td>9.0</td>\n",
       "      <td>22.0</td>\n",
       "      <td>0.0</td>\n",
       "      <td>0.0</td>\n",
       "      <td>0.0</td>\n",
       "      <td>0.0</td>\n",
       "      <td>20200203</td>\n",
       "    </tr>\n",
       "    <tr>\n",
       "      <th>4</th>\n",
       "      <td>202001</td>\n",
       "      <td>1호선</td>\n",
       "      <td>종로3가</td>\n",
       "      <td>160.0</td>\n",
       "      <td>25.0</td>\n",
       "      <td>4750.0</td>\n",
       "      <td>2452.0</td>\n",
       "      <td>4234.0</td>\n",
       "      <td>13222.0</td>\n",
       "      <td>5495.0</td>\n",
       "      <td>...</td>\n",
       "      <td>5357.0</td>\n",
       "      <td>2565.0</td>\n",
       "      <td>2284.0</td>\n",
       "      <td>30.0</td>\n",
       "      <td>89.0</td>\n",
       "      <td>0.0</td>\n",
       "      <td>0.0</td>\n",
       "      <td>0.0</td>\n",
       "      <td>0.0</td>\n",
       "      <td>20200203</td>\n",
       "    </tr>\n",
       "  </tbody>\n",
       "</table>\n",
       "<p>5 rows × 52 columns</p>\n",
       "</div>"
      ],
      "text/plain": [
       "  USE_MON LINE_NUM SUB_STA_NM  FOUR_RIDE_NUM  FOUR_ALIGHT_NUM  FIVE_RIDE_NUM  \\\n",
       "0  202001      8호선         산성           22.0              0.0         4469.0   \n",
       "1  202001      1호선        서울역          908.0             18.0         8948.0   \n",
       "2  202001      1호선         시청           55.0              0.0         1999.0   \n",
       "3  202001      1호선         종각          126.0              5.0         4380.0   \n",
       "4  202001      1호선       종로3가          160.0             25.0         4750.0   \n",
       "\n",
       "   FIVE_ALIGHT_NUM  SIX_RIDE_NUM  SIX_ALIGHT_NUM  SEVEN_RIDE_NUM  ...  \\\n",
       "0            865.0        7308.0          5246.0         17343.0  ...   \n",
       "1           7940.0       13146.0         47332.0         37251.0  ...   \n",
       "2           3976.0        3497.0         19177.0          7417.0  ...   \n",
       "3           4683.0        4456.0         25858.0          6286.0  ...   \n",
       "4           2452.0        4234.0         13222.0          5495.0  ...   \n",
       "\n",
       "   TWENTY_THREE_ALIGHT_NUM  MIDNIGHT_RIDE_NUM  MIDNIGHT_ALIGHT_NUM  \\\n",
       "0                   5877.0              162.0               1885.0   \n",
       "1                  17549.0             4190.0               5633.0   \n",
       "2                   3747.0              556.0               1063.0   \n",
       "3                   5038.0             2896.0               1577.0   \n",
       "4                   5357.0             2565.0               2284.0   \n",
       "\n",
       "   ONE_RIDE_NUM  ONE_ALIGHT_NUM  TWO_RIDE_NUM  TWO_ALIGHT_NUM  THREE_RIDE_NUM  \\\n",
       "0           1.0             8.0           0.0             0.0             0.0   \n",
       "1          98.0           291.0           0.0             8.0             0.0   \n",
       "2           7.0            38.0           0.0             0.0             0.0   \n",
       "3           9.0            22.0           0.0             0.0             0.0   \n",
       "4          30.0            89.0           0.0             0.0             0.0   \n",
       "\n",
       "   THREE_ALIGHT_NUM   WORK_DT  \n",
       "0               0.0  20200203  \n",
       "1               0.0  20200203  \n",
       "2               0.0  20200203  \n",
       "3               0.0  20200203  \n",
       "4               0.0  20200203  \n",
       "\n",
       "[5 rows x 52 columns]"
      ]
     },
     "execution_count": 22,
     "metadata": {},
     "output_type": "execute_result"
    }
   ],
   "source": [
    "subway=pd.DataFrame(data['CardSubwayTime']['row'])\n",
    "subway.head(5)"
   ]
  },
  {
   "cell_type": "markdown",
   "metadata": {},
   "source": [
    "### 2020년 데이터"
   ]
  },
  {
   "cell_type": "code",
   "execution_count": 16,
   "metadata": {},
   "outputs": [
    {
     "data": {
      "text/plain": [
       "(597, 52)"
      ]
     },
     "execution_count": 16,
     "metadata": {},
     "output_type": "execute_result"
    }
   ],
   "source": [
    "endpoint=f\"http://openapi.seoul.go.kr:8088/{my_key}/json/CardSubwayTime/1/1000/202001/\"\n",
    "resp=requests.get(endpoint)\n",
    "data=resp.json()\n",
    "s2001=pd.DataFrame(data['CardSubwayTime']['row'])\n",
    "s2001.shape"
   ]
  },
  {
   "cell_type": "code",
   "execution_count": 17,
   "metadata": {},
   "outputs": [
    {
     "data": {
      "text/plain": [
       "(597, 52)"
      ]
     },
     "execution_count": 17,
     "metadata": {},
     "output_type": "execute_result"
    }
   ],
   "source": [
    "endpoint=f\"http://openapi.seoul.go.kr:8088/{my_key}/json/CardSubwayTime/1/1000/202002/\"\n",
    "resp=requests.get(endpoint)\n",
    "data=resp.json()\n",
    "s2002=pd.DataFrame(data['CardSubwayTime']['row'])\n",
    "s2002.shape"
   ]
  },
  {
   "cell_type": "code",
   "execution_count": 18,
   "metadata": {},
   "outputs": [
    {
     "data": {
      "text/plain": [
       "(597, 52)"
      ]
     },
     "execution_count": 18,
     "metadata": {},
     "output_type": "execute_result"
    }
   ],
   "source": [
    "endpoint=f\"http://openapi.seoul.go.kr:8088/{my_key}/json/CardSubwayTime/1/1000/202003/\"\n",
    "resp=requests.get(endpoint)\n",
    "data=resp.json()\n",
    "s2003=pd.DataFrame(data['CardSubwayTime']['row'])\n",
    "s2003.shape"
   ]
  },
  {
   "cell_type": "code",
   "execution_count": 19,
   "metadata": {},
   "outputs": [
    {
     "data": {
      "text/plain": [
       "(599, 52)"
      ]
     },
     "execution_count": 19,
     "metadata": {},
     "output_type": "execute_result"
    }
   ],
   "source": [
    "endpoint=f\"http://openapi.seoul.go.kr:8088/{my_key}/json/CardSubwayTime/1/1000/202004/\"\n",
    "resp=requests.get(endpoint)\n",
    "data=resp.json()\n",
    "s2004=pd.DataFrame(data['CardSubwayTime']['row'])\n",
    "s2004.shape"
   ]
  },
  {
   "cell_type": "code",
   "execution_count": 20,
   "metadata": {},
   "outputs": [
    {
     "data": {
      "text/plain": [
       "(597, 52)"
      ]
     },
     "execution_count": 20,
     "metadata": {},
     "output_type": "execute_result"
    }
   ],
   "source": [
    "endpoint=f\"http://openapi.seoul.go.kr:8088/{my_key}/json/CardSubwayTime/1/1000/202005/\"\n",
    "resp=requests.get(endpoint)\n",
    "data=resp.json()\n",
    "s2005=pd.DataFrame(data['CardSubwayTime']['row'])\n",
    "s2005.shape"
   ]
  },
  {
   "cell_type": "code",
   "execution_count": 21,
   "metadata": {},
   "outputs": [
    {
     "data": {
      "text/plain": [
       "(600, 52)"
      ]
     },
     "execution_count": 21,
     "metadata": {},
     "output_type": "execute_result"
    }
   ],
   "source": [
    "endpoint=f\"http://openapi.seoul.go.kr:8088/{my_key}/json/CardSubwayTime/1/1000/202006/\"\n",
    "resp=requests.get(endpoint)\n",
    "data=resp.json()\n",
    "s2006=pd.DataFrame(data['CardSubwayTime']['row'])\n",
    "s2006.shape"
   ]
  },
  {
   "cell_type": "code",
   "execution_count": 22,
   "metadata": {},
   "outputs": [
    {
     "data": {
      "text/plain": [
       "(598, 52)"
      ]
     },
     "execution_count": 22,
     "metadata": {},
     "output_type": "execute_result"
    }
   ],
   "source": [
    "endpoint=f\"http://openapi.seoul.go.kr:8088/{my_key}/json/CardSubwayTime/1/1000/202007/\"\n",
    "resp=requests.get(endpoint)\n",
    "data=resp.json()\n",
    "s2007=pd.DataFrame(data['CardSubwayTime']['row'])\n",
    "s2007.shape"
   ]
  },
  {
   "cell_type": "code",
   "execution_count": 23,
   "metadata": {},
   "outputs": [
    {
     "data": {
      "text/plain": [
       "(597, 52)"
      ]
     },
     "execution_count": 23,
     "metadata": {},
     "output_type": "execute_result"
    }
   ],
   "source": [
    "endpoint=f\"http://openapi.seoul.go.kr:8088/{my_key}/json/CardSubwayTime/1/1000/202008/\"\n",
    "resp=requests.get(endpoint)\n",
    "data=resp.json()\n",
    "s2008=pd.DataFrame(data['CardSubwayTime']['row'])\n",
    "s2008.shape"
   ]
  },
  {
   "cell_type": "code",
   "execution_count": 24,
   "metadata": {},
   "outputs": [
    {
     "data": {
      "text/plain": [
       "(603, 52)"
      ]
     },
     "execution_count": 24,
     "metadata": {},
     "output_type": "execute_result"
    }
   ],
   "source": [
    "endpoint=f\"http://openapi.seoul.go.kr:8088/{my_key}/json/CardSubwayTime/1/1000/202009/\"\n",
    "resp=requests.get(endpoint)\n",
    "data=resp.json()\n",
    "s2009=pd.DataFrame(data['CardSubwayTime']['row'])\n",
    "s2009.shape"
   ]
  },
  {
   "cell_type": "markdown",
   "metadata": {},
   "source": [
    "### 2019년 데이터"
   ]
  },
  {
   "cell_type": "code",
   "execution_count": 31,
   "metadata": {},
   "outputs": [
    {
     "data": {
      "text/plain": [
       "(598, 52)"
      ]
     },
     "execution_count": 31,
     "metadata": {},
     "output_type": "execute_result"
    }
   ],
   "source": [
    "endpoint=f\"http://openapi.seoul.go.kr:8088/{my_key}/json/CardSubwayTime/1/1000/201901/\"\n",
    "resp=requests.get(endpoint)\n",
    "data=resp.json()\n",
    "s1901=pd.DataFrame(data['CardSubwayTime']['row'])\n",
    "s1901.shape"
   ]
  },
  {
   "cell_type": "code",
   "execution_count": 32,
   "metadata": {},
   "outputs": [
    {
     "data": {
      "text/plain": [
       "(598, 52)"
      ]
     },
     "execution_count": 32,
     "metadata": {},
     "output_type": "execute_result"
    }
   ],
   "source": [
    "endpoint=f\"http://openapi.seoul.go.kr:8088/{my_key}/json/CardSubwayTime/1/1000/201902/\"\n",
    "resp=requests.get(endpoint)\n",
    "data=resp.json()\n",
    "s1902=pd.DataFrame(data['CardSubwayTime']['row'])\n",
    "s1902.shape"
   ]
  },
  {
   "cell_type": "code",
   "execution_count": 33,
   "metadata": {},
   "outputs": [
    {
     "data": {
      "text/plain": [
       "(598, 52)"
      ]
     },
     "execution_count": 33,
     "metadata": {},
     "output_type": "execute_result"
    }
   ],
   "source": [
    "endpoint=f\"http://openapi.seoul.go.kr:8088/{my_key}/json/CardSubwayTime/1/1000/201903/\"\n",
    "resp=requests.get(endpoint)\n",
    "data=resp.json()\n",
    "s1903=pd.DataFrame(data['CardSubwayTime']['row'])\n",
    "s1903.shape"
   ]
  },
  {
   "cell_type": "code",
   "execution_count": 34,
   "metadata": {},
   "outputs": [
    {
     "data": {
      "text/plain": [
       "(600, 52)"
      ]
     },
     "execution_count": 34,
     "metadata": {},
     "output_type": "execute_result"
    }
   ],
   "source": [
    "endpoint=f\"http://openapi.seoul.go.kr:8088/{my_key}/json/CardSubwayTime/1/1000/201904/\"\n",
    "resp=requests.get(endpoint)\n",
    "data=resp.json()\n",
    "s1904=pd.DataFrame(data['CardSubwayTime']['row'])\n",
    "s1904.shape"
   ]
  },
  {
   "cell_type": "code",
   "execution_count": 35,
   "metadata": {},
   "outputs": [
    {
     "data": {
      "text/plain": [
       "(597, 52)"
      ]
     },
     "execution_count": 35,
     "metadata": {},
     "output_type": "execute_result"
    }
   ],
   "source": [
    "endpoint=f\"http://openapi.seoul.go.kr:8088/{my_key}/json/CardSubwayTime/1/1000/201905/\"\n",
    "resp=requests.get(endpoint)\n",
    "data=resp.json()\n",
    "s1905=pd.DataFrame(data['CardSubwayTime']['row'])\n",
    "s1905.shape"
   ]
  },
  {
   "cell_type": "code",
   "execution_count": 36,
   "metadata": {},
   "outputs": [
    {
     "data": {
      "text/plain": [
       "(596, 52)"
      ]
     },
     "execution_count": 36,
     "metadata": {},
     "output_type": "execute_result"
    }
   ],
   "source": [
    "endpoint=f\"http://openapi.seoul.go.kr:8088/{my_key}/json/CardSubwayTime/1/1000/201906/\"\n",
    "resp=requests.get(endpoint)\n",
    "data=resp.json()\n",
    "s1906=pd.DataFrame(data['CardSubwayTime']['row'])\n",
    "s1906.shape"
   ]
  },
  {
   "cell_type": "code",
   "execution_count": 37,
   "metadata": {},
   "outputs": [
    {
     "data": {
      "text/plain": [
       "(597, 52)"
      ]
     },
     "execution_count": 37,
     "metadata": {},
     "output_type": "execute_result"
    }
   ],
   "source": [
    "endpoint=f\"http://openapi.seoul.go.kr:8088/{my_key}/json/CardSubwayTime/1/1000/201907/\"\n",
    "resp=requests.get(endpoint)\n",
    "data=resp.json()\n",
    "s1907=pd.DataFrame(data['CardSubwayTime']['row'])\n",
    "s1907.shape"
   ]
  },
  {
   "cell_type": "code",
   "execution_count": 38,
   "metadata": {},
   "outputs": [
    {
     "data": {
      "text/plain": [
       "(598, 52)"
      ]
     },
     "execution_count": 38,
     "metadata": {},
     "output_type": "execute_result"
    }
   ],
   "source": [
    "endpoint=f\"http://openapi.seoul.go.kr:8088/{my_key}/json/CardSubwayTime/1/1000/201908/\"\n",
    "resp=requests.get(endpoint)\n",
    "data=resp.json()\n",
    "s1908=pd.DataFrame(data['CardSubwayTime']['row'])\n",
    "s1908.shape"
   ]
  },
  {
   "cell_type": "code",
   "execution_count": 39,
   "metadata": {},
   "outputs": [
    {
     "data": {
      "text/plain": [
       "(597, 52)"
      ]
     },
     "execution_count": 39,
     "metadata": {},
     "output_type": "execute_result"
    }
   ],
   "source": [
    "endpoint=f\"http://openapi.seoul.go.kr:8088/{my_key}/json/CardSubwayTime/1/1000/201909/\"\n",
    "resp=requests.get(endpoint)\n",
    "data=resp.json()\n",
    "s1909=pd.DataFrame(data['CardSubwayTime']['row'])\n",
    "s1909.shape"
   ]
  },
  {
   "cell_type": "code",
   "execution_count": 40,
   "metadata": {},
   "outputs": [
    {
     "data": {
      "text/plain": [
       "(598, 52)"
      ]
     },
     "execution_count": 40,
     "metadata": {},
     "output_type": "execute_result"
    }
   ],
   "source": [
    "endpoint=f\"http://openapi.seoul.go.kr:8088/{my_key}/json/CardSubwayTime/1/1000/201910/\"\n",
    "resp=requests.get(endpoint)\n",
    "data=resp.json()\n",
    "s1910=pd.DataFrame(data['CardSubwayTime']['row'])\n",
    "s1910.shape"
   ]
  },
  {
   "cell_type": "code",
   "execution_count": 41,
   "metadata": {},
   "outputs": [
    {
     "data": {
      "text/plain": [
       "(597, 52)"
      ]
     },
     "execution_count": 41,
     "metadata": {},
     "output_type": "execute_result"
    }
   ],
   "source": [
    "endpoint=f\"http://openapi.seoul.go.kr:8088/{my_key}/json/CardSubwayTime/1/1000/201911/\"\n",
    "resp=requests.get(endpoint)\n",
    "data=resp.json()\n",
    "s1911=pd.DataFrame(data['CardSubwayTime']['row'])\n",
    "s1911.shape"
   ]
  },
  {
   "cell_type": "code",
   "execution_count": 42,
   "metadata": {},
   "outputs": [
    {
     "data": {
      "text/plain": [
       "(597, 52)"
      ]
     },
     "execution_count": 42,
     "metadata": {},
     "output_type": "execute_result"
    }
   ],
   "source": [
    "endpoint=f\"http://openapi.seoul.go.kr:8088/{my_key}/json/CardSubwayTime/1/1000/201912/\"\n",
    "resp=requests.get(endpoint)\n",
    "data=resp.json()\n",
    "s1912=pd.DataFrame(data['CardSubwayTime']['row'])\n",
    "s1912.shape"
   ]
  },
  {
   "cell_type": "markdown",
   "metadata": {},
   "source": [
    "### 데이터 합치기\n",
    "- concat() "
   ]
  },
  {
   "cell_type": "code",
   "execution_count": 46,
   "metadata": {},
   "outputs": [],
   "source": [
    "subway=pd.concat([s1901,s1902,s1903,s1904,s1905,s1906,s1907,s1908,s1909,\n",
    "           s1910,s1911,s1912,s2001,s2002,s2003,s2004,s2005,s2006,s2007,s2008,s2009])"
   ]
  },
  {
   "cell_type": "code",
   "execution_count": 47,
   "metadata": {},
   "outputs": [
    {
     "data": {
      "text/html": [
       "<div>\n",
       "<style scoped>\n",
       "    .dataframe tbody tr th:only-of-type {\n",
       "        vertical-align: middle;\n",
       "    }\n",
       "\n",
       "    .dataframe tbody tr th {\n",
       "        vertical-align: top;\n",
       "    }\n",
       "\n",
       "    .dataframe thead th {\n",
       "        text-align: right;\n",
       "    }\n",
       "</style>\n",
       "<table border=\"1\" class=\"dataframe\">\n",
       "  <thead>\n",
       "    <tr style=\"text-align: right;\">\n",
       "      <th></th>\n",
       "      <th>USE_MON</th>\n",
       "      <th>LINE_NUM</th>\n",
       "      <th>SUB_STA_NM</th>\n",
       "      <th>FOUR_RIDE_NUM</th>\n",
       "      <th>FOUR_ALIGHT_NUM</th>\n",
       "      <th>FIVE_RIDE_NUM</th>\n",
       "      <th>FIVE_ALIGHT_NUM</th>\n",
       "      <th>SIX_RIDE_NUM</th>\n",
       "      <th>SIX_ALIGHT_NUM</th>\n",
       "      <th>SEVEN_RIDE_NUM</th>\n",
       "      <th>...</th>\n",
       "      <th>TWENTY_THREE_ALIGHT_NUM</th>\n",
       "      <th>MIDNIGHT_RIDE_NUM</th>\n",
       "      <th>MIDNIGHT_ALIGHT_NUM</th>\n",
       "      <th>ONE_RIDE_NUM</th>\n",
       "      <th>ONE_ALIGHT_NUM</th>\n",
       "      <th>TWO_RIDE_NUM</th>\n",
       "      <th>TWO_ALIGHT_NUM</th>\n",
       "      <th>THREE_RIDE_NUM</th>\n",
       "      <th>THREE_ALIGHT_NUM</th>\n",
       "      <th>WORK_DT</th>\n",
       "    </tr>\n",
       "  </thead>\n",
       "  <tbody>\n",
       "    <tr>\n",
       "      <th>0</th>\n",
       "      <td>201901</td>\n",
       "      <td>경원선</td>\n",
       "      <td>옥수</td>\n",
       "      <td>0.0</td>\n",
       "      <td>0.0</td>\n",
       "      <td>0.0</td>\n",
       "      <td>7.0</td>\n",
       "      <td>19.0</td>\n",
       "      <td>21.0</td>\n",
       "      <td>34.0</td>\n",
       "      <td>...</td>\n",
       "      <td>2.0</td>\n",
       "      <td>0.0</td>\n",
       "      <td>0.0</td>\n",
       "      <td>0.0</td>\n",
       "      <td>0.0</td>\n",
       "      <td>0.0</td>\n",
       "      <td>0.0</td>\n",
       "      <td>0.0</td>\n",
       "      <td>0.0</td>\n",
       "      <td>20190203</td>\n",
       "    </tr>\n",
       "    <tr>\n",
       "      <th>1</th>\n",
       "      <td>201901</td>\n",
       "      <td>1호선</td>\n",
       "      <td>서울역</td>\n",
       "      <td>927.0</td>\n",
       "      <td>22.0</td>\n",
       "      <td>10682.0</td>\n",
       "      <td>8774.0</td>\n",
       "      <td>13504.0</td>\n",
       "      <td>45545.0</td>\n",
       "      <td>39110.0</td>\n",
       "      <td>...</td>\n",
       "      <td>19442.0</td>\n",
       "      <td>3612.0</td>\n",
       "      <td>7167.0</td>\n",
       "      <td>0.0</td>\n",
       "      <td>410.0</td>\n",
       "      <td>0.0</td>\n",
       "      <td>0.0</td>\n",
       "      <td>0.0</td>\n",
       "      <td>0.0</td>\n",
       "      <td>20190203</td>\n",
       "    </tr>\n",
       "    <tr>\n",
       "      <th>2</th>\n",
       "      <td>201901</td>\n",
       "      <td>1호선</td>\n",
       "      <td>시청</td>\n",
       "      <td>74.0</td>\n",
       "      <td>0.0</td>\n",
       "      <td>2409.0</td>\n",
       "      <td>4049.0</td>\n",
       "      <td>3532.0</td>\n",
       "      <td>19241.0</td>\n",
       "      <td>7703.0</td>\n",
       "      <td>...</td>\n",
       "      <td>4079.0</td>\n",
       "      <td>981.0</td>\n",
       "      <td>1256.0</td>\n",
       "      <td>3.0</td>\n",
       "      <td>29.0</td>\n",
       "      <td>0.0</td>\n",
       "      <td>0.0</td>\n",
       "      <td>0.0</td>\n",
       "      <td>0.0</td>\n",
       "      <td>20190203</td>\n",
       "    </tr>\n",
       "    <tr>\n",
       "      <th>3</th>\n",
       "      <td>201901</td>\n",
       "      <td>1호선</td>\n",
       "      <td>종각</td>\n",
       "      <td>100.0</td>\n",
       "      <td>8.0</td>\n",
       "      <td>4409.0</td>\n",
       "      <td>5105.0</td>\n",
       "      <td>4593.0</td>\n",
       "      <td>26969.0</td>\n",
       "      <td>6733.0</td>\n",
       "      <td>...</td>\n",
       "      <td>5560.0</td>\n",
       "      <td>4886.0</td>\n",
       "      <td>1722.0</td>\n",
       "      <td>0.0</td>\n",
       "      <td>0.0</td>\n",
       "      <td>0.0</td>\n",
       "      <td>0.0</td>\n",
       "      <td>0.0</td>\n",
       "      <td>0.0</td>\n",
       "      <td>20190203</td>\n",
       "    </tr>\n",
       "    <tr>\n",
       "      <th>4</th>\n",
       "      <td>201901</td>\n",
       "      <td>1호선</td>\n",
       "      <td>종로3가</td>\n",
       "      <td>122.0</td>\n",
       "      <td>4.0</td>\n",
       "      <td>5061.0</td>\n",
       "      <td>2520.0</td>\n",
       "      <td>3876.0</td>\n",
       "      <td>12832.0</td>\n",
       "      <td>6066.0</td>\n",
       "      <td>...</td>\n",
       "      <td>5503.0</td>\n",
       "      <td>3214.0</td>\n",
       "      <td>2471.0</td>\n",
       "      <td>0.0</td>\n",
       "      <td>52.0</td>\n",
       "      <td>0.0</td>\n",
       "      <td>0.0</td>\n",
       "      <td>0.0</td>\n",
       "      <td>0.0</td>\n",
       "      <td>20190203</td>\n",
       "    </tr>\n",
       "    <tr>\n",
       "      <th>...</th>\n",
       "      <td>...</td>\n",
       "      <td>...</td>\n",
       "      <td>...</td>\n",
       "      <td>...</td>\n",
       "      <td>...</td>\n",
       "      <td>...</td>\n",
       "      <td>...</td>\n",
       "      <td>...</td>\n",
       "      <td>...</td>\n",
       "      <td>...</td>\n",
       "      <td>...</td>\n",
       "      <td>...</td>\n",
       "      <td>...</td>\n",
       "      <td>...</td>\n",
       "      <td>...</td>\n",
       "      <td>...</td>\n",
       "      <td>...</td>\n",
       "      <td>...</td>\n",
       "      <td>...</td>\n",
       "      <td>...</td>\n",
       "      <td>...</td>\n",
       "    </tr>\n",
       "    <tr>\n",
       "      <th>598</th>\n",
       "      <td>202009</td>\n",
       "      <td>중앙선</td>\n",
       "      <td>오빈</td>\n",
       "      <td>3.0</td>\n",
       "      <td>0.0</td>\n",
       "      <td>174.0</td>\n",
       "      <td>5.0</td>\n",
       "      <td>323.0</td>\n",
       "      <td>254.0</td>\n",
       "      <td>785.0</td>\n",
       "      <td>...</td>\n",
       "      <td>78.0</td>\n",
       "      <td>0.0</td>\n",
       "      <td>52.0</td>\n",
       "      <td>0.0</td>\n",
       "      <td>0.0</td>\n",
       "      <td>0.0</td>\n",
       "      <td>0.0</td>\n",
       "      <td>0.0</td>\n",
       "      <td>0.0</td>\n",
       "      <td>20201003</td>\n",
       "    </tr>\n",
       "    <tr>\n",
       "      <th>599</th>\n",
       "      <td>202009</td>\n",
       "      <td>중앙선</td>\n",
       "      <td>양평</td>\n",
       "      <td>69.0</td>\n",
       "      <td>5.0</td>\n",
       "      <td>1283.0</td>\n",
       "      <td>75.0</td>\n",
       "      <td>2544.0</td>\n",
       "      <td>1704.0</td>\n",
       "      <td>5476.0</td>\n",
       "      <td>...</td>\n",
       "      <td>1660.0</td>\n",
       "      <td>66.0</td>\n",
       "      <td>634.0</td>\n",
       "      <td>0.0</td>\n",
       "      <td>0.0</td>\n",
       "      <td>0.0</td>\n",
       "      <td>0.0</td>\n",
       "      <td>0.0</td>\n",
       "      <td>0.0</td>\n",
       "      <td>20201003</td>\n",
       "    </tr>\n",
       "    <tr>\n",
       "      <th>600</th>\n",
       "      <td>202009</td>\n",
       "      <td>중앙선</td>\n",
       "      <td>원덕</td>\n",
       "      <td>54.0</td>\n",
       "      <td>1.0</td>\n",
       "      <td>337.0</td>\n",
       "      <td>9.0</td>\n",
       "      <td>404.0</td>\n",
       "      <td>152.0</td>\n",
       "      <td>696.0</td>\n",
       "      <td>...</td>\n",
       "      <td>157.0</td>\n",
       "      <td>1.0</td>\n",
       "      <td>97.0</td>\n",
       "      <td>0.0</td>\n",
       "      <td>0.0</td>\n",
       "      <td>0.0</td>\n",
       "      <td>0.0</td>\n",
       "      <td>0.0</td>\n",
       "      <td>0.0</td>\n",
       "      <td>20201003</td>\n",
       "    </tr>\n",
       "    <tr>\n",
       "      <th>601</th>\n",
       "      <td>202009</td>\n",
       "      <td>중앙선</td>\n",
       "      <td>용문</td>\n",
       "      <td>294.0</td>\n",
       "      <td>1.0</td>\n",
       "      <td>765.0</td>\n",
       "      <td>4.0</td>\n",
       "      <td>1565.0</td>\n",
       "      <td>617.0</td>\n",
       "      <td>2775.0</td>\n",
       "      <td>...</td>\n",
       "      <td>992.0</td>\n",
       "      <td>1.0</td>\n",
       "      <td>527.0</td>\n",
       "      <td>0.0</td>\n",
       "      <td>0.0</td>\n",
       "      <td>0.0</td>\n",
       "      <td>0.0</td>\n",
       "      <td>0.0</td>\n",
       "      <td>0.0</td>\n",
       "      <td>20201003</td>\n",
       "    </tr>\n",
       "    <tr>\n",
       "      <th>602</th>\n",
       "      <td>202009</td>\n",
       "      <td>중앙선</td>\n",
       "      <td>지평</td>\n",
       "      <td>0.0</td>\n",
       "      <td>0.0</td>\n",
       "      <td>0.0</td>\n",
       "      <td>0.0</td>\n",
       "      <td>0.0</td>\n",
       "      <td>0.0</td>\n",
       "      <td>302.0</td>\n",
       "      <td>...</td>\n",
       "      <td>0.0</td>\n",
       "      <td>0.0</td>\n",
       "      <td>0.0</td>\n",
       "      <td>0.0</td>\n",
       "      <td>0.0</td>\n",
       "      <td>0.0</td>\n",
       "      <td>0.0</td>\n",
       "      <td>0.0</td>\n",
       "      <td>0.0</td>\n",
       "      <td>20201003</td>\n",
       "    </tr>\n",
       "  </tbody>\n",
       "</table>\n",
       "<p>12556 rows × 52 columns</p>\n",
       "</div>"
      ],
      "text/plain": [
       "    USE_MON LINE_NUM SUB_STA_NM  FOUR_RIDE_NUM  FOUR_ALIGHT_NUM  \\\n",
       "0    201901      경원선         옥수            0.0              0.0   \n",
       "1    201901      1호선        서울역          927.0             22.0   \n",
       "2    201901      1호선         시청           74.0              0.0   \n",
       "3    201901      1호선         종각          100.0              8.0   \n",
       "4    201901      1호선       종로3가          122.0              4.0   \n",
       "..      ...      ...        ...            ...              ...   \n",
       "598  202009      중앙선         오빈            3.0              0.0   \n",
       "599  202009      중앙선         양평           69.0              5.0   \n",
       "600  202009      중앙선         원덕           54.0              1.0   \n",
       "601  202009      중앙선         용문          294.0              1.0   \n",
       "602  202009      중앙선         지평            0.0              0.0   \n",
       "\n",
       "     FIVE_RIDE_NUM  FIVE_ALIGHT_NUM  SIX_RIDE_NUM  SIX_ALIGHT_NUM  \\\n",
       "0              0.0              7.0          19.0            21.0   \n",
       "1          10682.0           8774.0       13504.0         45545.0   \n",
       "2           2409.0           4049.0        3532.0         19241.0   \n",
       "3           4409.0           5105.0        4593.0         26969.0   \n",
       "4           5061.0           2520.0        3876.0         12832.0   \n",
       "..             ...              ...           ...             ...   \n",
       "598          174.0              5.0         323.0           254.0   \n",
       "599         1283.0             75.0        2544.0          1704.0   \n",
       "600          337.0              9.0         404.0           152.0   \n",
       "601          765.0              4.0        1565.0           617.0   \n",
       "602            0.0              0.0           0.0             0.0   \n",
       "\n",
       "     SEVEN_RIDE_NUM  ...  TWENTY_THREE_ALIGHT_NUM  MIDNIGHT_RIDE_NUM  \\\n",
       "0              34.0  ...                      2.0                0.0   \n",
       "1           39110.0  ...                  19442.0             3612.0   \n",
       "2            7703.0  ...                   4079.0              981.0   \n",
       "3            6733.0  ...                   5560.0             4886.0   \n",
       "4            6066.0  ...                   5503.0             3214.0   \n",
       "..              ...  ...                      ...                ...   \n",
       "598           785.0  ...                     78.0                0.0   \n",
       "599          5476.0  ...                   1660.0               66.0   \n",
       "600           696.0  ...                    157.0                1.0   \n",
       "601          2775.0  ...                    992.0                1.0   \n",
       "602           302.0  ...                      0.0                0.0   \n",
       "\n",
       "     MIDNIGHT_ALIGHT_NUM  ONE_RIDE_NUM  ONE_ALIGHT_NUM  TWO_RIDE_NUM  \\\n",
       "0                    0.0           0.0             0.0           0.0   \n",
       "1                 7167.0           0.0           410.0           0.0   \n",
       "2                 1256.0           3.0            29.0           0.0   \n",
       "3                 1722.0           0.0             0.0           0.0   \n",
       "4                 2471.0           0.0            52.0           0.0   \n",
       "..                   ...           ...             ...           ...   \n",
       "598                 52.0           0.0             0.0           0.0   \n",
       "599                634.0           0.0             0.0           0.0   \n",
       "600                 97.0           0.0             0.0           0.0   \n",
       "601                527.0           0.0             0.0           0.0   \n",
       "602                  0.0           0.0             0.0           0.0   \n",
       "\n",
       "     TWO_ALIGHT_NUM  THREE_RIDE_NUM  THREE_ALIGHT_NUM   WORK_DT  \n",
       "0               0.0             0.0               0.0  20190203  \n",
       "1               0.0             0.0               0.0  20190203  \n",
       "2               0.0             0.0               0.0  20190203  \n",
       "3               0.0             0.0               0.0  20190203  \n",
       "4               0.0             0.0               0.0  20190203  \n",
       "..              ...             ...               ...       ...  \n",
       "598             0.0             0.0               0.0  20201003  \n",
       "599             0.0             0.0               0.0  20201003  \n",
       "600             0.0             0.0               0.0  20201003  \n",
       "601             0.0             0.0               0.0  20201003  \n",
       "602             0.0             0.0               0.0  20201003  \n",
       "\n",
       "[12556 rows x 52 columns]"
      ]
     },
     "execution_count": 47,
     "metadata": {},
     "output_type": "execute_result"
    }
   ],
   "source": [
    "subway"
   ]
  },
  {
   "cell_type": "markdown",
   "metadata": {},
   "source": [
    "### 파일 내보내기\n",
    "\n",
    "subway.to_csv('/경로, 파일명')"
   ]
  },
  {
   "cell_type": "markdown",
   "metadata": {},
   "source": [
    "## 2) 서울시 코로나 확진자  현황 데이터"
   ]
  },
  {
   "cell_type": "code",
   "execution_count": 23,
   "metadata": {},
   "outputs": [
    {
     "data": {
      "text/html": [
       "<div>\n",
       "<style scoped>\n",
       "    .dataframe tbody tr th:only-of-type {\n",
       "        vertical-align: middle;\n",
       "    }\n",
       "\n",
       "    .dataframe tbody tr th {\n",
       "        vertical-align: top;\n",
       "    }\n",
       "\n",
       "    .dataframe thead th {\n",
       "        text-align: right;\n",
       "    }\n",
       "</style>\n",
       "<table border=\"1\" class=\"dataframe\">\n",
       "  <thead>\n",
       "    <tr style=\"text-align: right;\">\n",
       "      <th></th>\n",
       "      <th>CORONA19_ID</th>\n",
       "      <th>CORONA19_DATE</th>\n",
       "      <th>CORONA19_NO</th>\n",
       "      <th>CORONA19_COUNTRY</th>\n",
       "      <th>CORONA19_PERSONAL</th>\n",
       "      <th>CORONA19_AREA</th>\n",
       "      <th>CORONA19_TRAVEL_HISTORY</th>\n",
       "      <th>CORONA19_CONTACT_HISTORY</th>\n",
       "      <th>CORONA19_CORRECTIVE</th>\n",
       "      <th>CORONA19_LEAVE_STATUS</th>\n",
       "      <th>CORONA19_MOVING_PATH</th>\n",
       "      <th>CORONA19_IDATE</th>\n",
       "      <th>CORONA19_MDATE</th>\n",
       "    </tr>\n",
       "  </thead>\n",
       "  <tbody>\n",
       "    <tr>\n",
       "      <th>0</th>\n",
       "      <td>1</td>\n",
       "      <td>1.24.</td>\n",
       "      <td>2</td>\n",
       "      <td></td>\n",
       "      <td></td>\n",
       "      <td>강서구</td>\n",
       "      <td>중국 우한시</td>\n",
       "      <td>해외 접촉</td>\n",
       "      <td></td>\n",
       "      <td>퇴원</td>\n",
       "      <td>이동경로 공개기간 경과</td>\n",
       "      <td>2020-10-19 10:57:09</td>\n",
       "      <td>2020-10-20 09:00:02</td>\n",
       "    </tr>\n",
       "    <tr>\n",
       "      <th>1</th>\n",
       "      <td>2</td>\n",
       "      <td>1.30.</td>\n",
       "      <td>5</td>\n",
       "      <td></td>\n",
       "      <td></td>\n",
       "      <td>중랑구</td>\n",
       "      <td>중국 우한시</td>\n",
       "      <td>해외 접촉</td>\n",
       "      <td></td>\n",
       "      <td>퇴원</td>\n",
       "      <td>이동경로 공개기간 경과</td>\n",
       "      <td>2020-10-19 10:57:09</td>\n",
       "      <td>2020-10-20 09:00:02</td>\n",
       "    </tr>\n",
       "    <tr>\n",
       "      <th>2</th>\n",
       "      <td>3</td>\n",
       "      <td>1.30.</td>\n",
       "      <td>6</td>\n",
       "      <td></td>\n",
       "      <td></td>\n",
       "      <td>종로구</td>\n",
       "      <td></td>\n",
       "      <td>#3 접촉</td>\n",
       "      <td></td>\n",
       "      <td>퇴원</td>\n",
       "      <td>이동경로 공개기간 경과</td>\n",
       "      <td>2020-10-19 10:57:09</td>\n",
       "      <td>2020-10-20 09:00:02</td>\n",
       "    </tr>\n",
       "    <tr>\n",
       "      <th>3</th>\n",
       "      <td>4</td>\n",
       "      <td>1.30.</td>\n",
       "      <td>7</td>\n",
       "      <td></td>\n",
       "      <td></td>\n",
       "      <td>마포구</td>\n",
       "      <td>중국 우한시</td>\n",
       "      <td>해외 접촉</td>\n",
       "      <td></td>\n",
       "      <td>퇴원</td>\n",
       "      <td>이동경로 공개기간 경과</td>\n",
       "      <td>2020-10-19 10:57:09</td>\n",
       "      <td>2020-10-20 09:00:02</td>\n",
       "    </tr>\n",
       "    <tr>\n",
       "      <th>4</th>\n",
       "      <td>5</td>\n",
       "      <td>1.31.</td>\n",
       "      <td>9</td>\n",
       "      <td></td>\n",
       "      <td></td>\n",
       "      <td>성북구</td>\n",
       "      <td></td>\n",
       "      <td>#5 접촉</td>\n",
       "      <td></td>\n",
       "      <td>퇴원</td>\n",
       "      <td>이동경로 공개기간 경과</td>\n",
       "      <td>2020-10-19 10:57:09</td>\n",
       "      <td>2020-10-20 09:00:02</td>\n",
       "    </tr>\n",
       "  </tbody>\n",
       "</table>\n",
       "</div>"
      ],
      "text/plain": [
       "  CORONA19_ID CORONA19_DATE CORONA19_NO CORONA19_COUNTRY CORONA19_PERSONAL  \\\n",
       "0           1         1.24.           2                                      \n",
       "1           2         1.30.           5                                      \n",
       "2           3         1.30.           6                                      \n",
       "3           4         1.30.           7                                      \n",
       "4           5         1.31.           9                                      \n",
       "\n",
       "  CORONA19_AREA CORONA19_TRAVEL_HISTORY CORONA19_CONTACT_HISTORY  \\\n",
       "0           강서구                  중국 우한시                    해외 접촉   \n",
       "1           중랑구                  중국 우한시                    해외 접촉   \n",
       "2           종로구                                            #3 접촉   \n",
       "3           마포구                  중국 우한시                    해외 접촉   \n",
       "4           성북구                                            #5 접촉   \n",
       "\n",
       "  CORONA19_CORRECTIVE CORONA19_LEAVE_STATUS CORONA19_MOVING_PATH  \\\n",
       "0                                        퇴원         이동경로 공개기간 경과   \n",
       "1                                        퇴원         이동경로 공개기간 경과   \n",
       "2                                        퇴원         이동경로 공개기간 경과   \n",
       "3                                        퇴원         이동경로 공개기간 경과   \n",
       "4                                        퇴원         이동경로 공개기간 경과   \n",
       "\n",
       "        CORONA19_IDATE       CORONA19_MDATE  \n",
       "0  2020-10-19 10:57:09  2020-10-20 09:00:02  \n",
       "1  2020-10-19 10:57:09  2020-10-20 09:00:02  \n",
       "2  2020-10-19 10:57:09  2020-10-20 09:00:02  \n",
       "3  2020-10-19 10:57:09  2020-10-20 09:00:02  \n",
       "4  2020-10-19 10:57:09  2020-10-20 09:00:02  "
      ]
     },
     "execution_count": 23,
     "metadata": {},
     "output_type": "execute_result"
    }
   ],
   "source": [
    "#api 호출\n",
    "endpoint=f\"http://openapi.seoul.go.kr:8088/{my_key}/json/Corona19Status/1/1000/\"\n",
    "resp=requests.get(endpoint)\n",
    "#print(resp.status_code)\n",
    "#print(resp.text)\n",
    "data=resp.json()\n",
    "df1=pd.DataFrame(data['Corona19Status']['row'])\n",
    "df1.head()"
   ]
  },
  {
   "cell_type": "markdown",
   "metadata": {},
   "source": [
    "### Data 전체 읽어오기\n",
    "- for문, concat() 사용\n",
    "- 한번에 최대 1000개 까지 읽어올 수 있기 때문에, for문으로 데이터를 반복해서 읽음"
   ]
  },
  {
   "cell_type": "code",
   "execution_count": 5,
   "metadata": {},
   "outputs": [],
   "source": [
    "#api 호출\n",
    "for i in range(1,6):\n",
    "    endpoint=f\"http://openapi.seoul.go.kr:8088/{my_key}/json/Corona19Status/{i}001/{i+1}000/\"\n",
    "    resp=requests.get(endpoint)\n",
    "    #print(resp.status_code)\n",
    "    #print(resp.text)\n",
    "    data=resp.json()\n",
    "    df2=pd.DataFrame(data['Corona19Status']['row'])\n",
    "    df1=pd.concat([df1,df2])"
   ]
  },
  {
   "cell_type": "code",
   "execution_count": 8,
   "metadata": {},
   "outputs": [
    {
     "name": "stdout",
     "output_type": "stream",
     "text": [
      "(5702, 13)\n"
     ]
    },
    {
     "data": {
      "text/html": [
       "<div>\n",
       "<style scoped>\n",
       "    .dataframe tbody tr th:only-of-type {\n",
       "        vertical-align: middle;\n",
       "    }\n",
       "\n",
       "    .dataframe tbody tr th {\n",
       "        vertical-align: top;\n",
       "    }\n",
       "\n",
       "    .dataframe thead th {\n",
       "        text-align: right;\n",
       "    }\n",
       "</style>\n",
       "<table border=\"1\" class=\"dataframe\">\n",
       "  <thead>\n",
       "    <tr style=\"text-align: right;\">\n",
       "      <th></th>\n",
       "      <th>CORONA19_ID</th>\n",
       "      <th>CORONA19_DATE</th>\n",
       "      <th>CORONA19_NO</th>\n",
       "      <th>CORONA19_COUNTRY</th>\n",
       "      <th>CORONA19_PERSONAL</th>\n",
       "      <th>CORONA19_AREA</th>\n",
       "      <th>CORONA19_TRAVEL_HISTORY</th>\n",
       "      <th>CORONA19_CONTACT_HISTORY</th>\n",
       "      <th>CORONA19_CORRECTIVE</th>\n",
       "      <th>CORONA19_LEAVE_STATUS</th>\n",
       "      <th>CORONA19_MOVING_PATH</th>\n",
       "      <th>CORONA19_IDATE</th>\n",
       "      <th>CORONA19_MDATE</th>\n",
       "    </tr>\n",
       "  </thead>\n",
       "  <tbody>\n",
       "    <tr>\n",
       "      <th>0</th>\n",
       "      <td>1</td>\n",
       "      <td>1.24.</td>\n",
       "      <td>2</td>\n",
       "      <td></td>\n",
       "      <td></td>\n",
       "      <td>강서구</td>\n",
       "      <td>중국 우한시</td>\n",
       "      <td>해외 접촉</td>\n",
       "      <td></td>\n",
       "      <td>퇴원</td>\n",
       "      <td>이동경로 공개기간 경과</td>\n",
       "      <td>2020-10-19 10:57:09</td>\n",
       "      <td>2020-10-20 09:00:02</td>\n",
       "    </tr>\n",
       "    <tr>\n",
       "      <th>1</th>\n",
       "      <td>2</td>\n",
       "      <td>1.30.</td>\n",
       "      <td>5</td>\n",
       "      <td></td>\n",
       "      <td></td>\n",
       "      <td>중랑구</td>\n",
       "      <td>중국 우한시</td>\n",
       "      <td>해외 접촉</td>\n",
       "      <td></td>\n",
       "      <td>퇴원</td>\n",
       "      <td>이동경로 공개기간 경과</td>\n",
       "      <td>2020-10-19 10:57:09</td>\n",
       "      <td>2020-10-20 09:00:02</td>\n",
       "    </tr>\n",
       "    <tr>\n",
       "      <th>2</th>\n",
       "      <td>3</td>\n",
       "      <td>1.30.</td>\n",
       "      <td>6</td>\n",
       "      <td></td>\n",
       "      <td></td>\n",
       "      <td>종로구</td>\n",
       "      <td></td>\n",
       "      <td>#3 접촉</td>\n",
       "      <td></td>\n",
       "      <td>퇴원</td>\n",
       "      <td>이동경로 공개기간 경과</td>\n",
       "      <td>2020-10-19 10:57:09</td>\n",
       "      <td>2020-10-20 09:00:02</td>\n",
       "    </tr>\n",
       "    <tr>\n",
       "      <th>3</th>\n",
       "      <td>4</td>\n",
       "      <td>1.30.</td>\n",
       "      <td>7</td>\n",
       "      <td></td>\n",
       "      <td></td>\n",
       "      <td>마포구</td>\n",
       "      <td>중국 우한시</td>\n",
       "      <td>해외 접촉</td>\n",
       "      <td></td>\n",
       "      <td>퇴원</td>\n",
       "      <td>이동경로 공개기간 경과</td>\n",
       "      <td>2020-10-19 10:57:09</td>\n",
       "      <td>2020-10-20 09:00:02</td>\n",
       "    </tr>\n",
       "    <tr>\n",
       "      <th>4</th>\n",
       "      <td>5</td>\n",
       "      <td>1.31.</td>\n",
       "      <td>9</td>\n",
       "      <td></td>\n",
       "      <td></td>\n",
       "      <td>성북구</td>\n",
       "      <td></td>\n",
       "      <td>#5 접촉</td>\n",
       "      <td></td>\n",
       "      <td>퇴원</td>\n",
       "      <td>이동경로 공개기간 경과</td>\n",
       "      <td>2020-10-19 10:57:09</td>\n",
       "      <td>2020-10-20 09:00:02</td>\n",
       "    </tr>\n",
       "  </tbody>\n",
       "</table>\n",
       "</div>"
      ],
      "text/plain": [
       "  CORONA19_ID CORONA19_DATE CORONA19_NO CORONA19_COUNTRY CORONA19_PERSONAL  \\\n",
       "0           1         1.24.           2                                      \n",
       "1           2         1.30.           5                                      \n",
       "2           3         1.30.           6                                      \n",
       "3           4         1.30.           7                                      \n",
       "4           5         1.31.           9                                      \n",
       "\n",
       "  CORONA19_AREA CORONA19_TRAVEL_HISTORY CORONA19_CONTACT_HISTORY  \\\n",
       "0           강서구                  중국 우한시                    해외 접촉   \n",
       "1           중랑구                  중국 우한시                    해외 접촉   \n",
       "2           종로구                                            #3 접촉   \n",
       "3           마포구                  중국 우한시                    해외 접촉   \n",
       "4           성북구                                            #5 접촉   \n",
       "\n",
       "  CORONA19_CORRECTIVE CORONA19_LEAVE_STATUS CORONA19_MOVING_PATH  \\\n",
       "0                                        퇴원         이동경로 공개기간 경과   \n",
       "1                                        퇴원         이동경로 공개기간 경과   \n",
       "2                                        퇴원         이동경로 공개기간 경과   \n",
       "3                                        퇴원         이동경로 공개기간 경과   \n",
       "4                                        퇴원         이동경로 공개기간 경과   \n",
       "\n",
       "        CORONA19_IDATE       CORONA19_MDATE  \n",
       "0  2020-10-19 10:57:09  2020-10-20 09:00:02  \n",
       "1  2020-10-19 10:57:09  2020-10-20 09:00:02  \n",
       "2  2020-10-19 10:57:09  2020-10-20 09:00:02  \n",
       "3  2020-10-19 10:57:09  2020-10-20 09:00:02  \n",
       "4  2020-10-19 10:57:09  2020-10-20 09:00:02  "
      ]
     },
     "execution_count": 8,
     "metadata": {},
     "output_type": "execute_result"
    }
   ],
   "source": [
    "print(df1.shape)\n",
    "df1.head()"
   ]
  },
  {
   "cell_type": "markdown",
   "metadata": {},
   "source": [
    "###  파일 내보내기"
   ]
  },
  {
   "cell_type": "code",
   "execution_count": 13,
   "metadata": {},
   "outputs": [],
   "source": [
    "df1.to_csv('data/covid19_seoul.csv',encoding='ms949',index=False)"
   ]
  },
  {
   "cell_type": "code",
   "execution_count": 15,
   "metadata": {
    "scrolled": true
   },
   "outputs": [
    {
     "data": {
      "text/html": [
       "<div>\n",
       "<style scoped>\n",
       "    .dataframe tbody tr th:only-of-type {\n",
       "        vertical-align: middle;\n",
       "    }\n",
       "\n",
       "    .dataframe tbody tr th {\n",
       "        vertical-align: top;\n",
       "    }\n",
       "\n",
       "    .dataframe thead th {\n",
       "        text-align: right;\n",
       "    }\n",
       "</style>\n",
       "<table border=\"1\" class=\"dataframe\">\n",
       "  <thead>\n",
       "    <tr style=\"text-align: right;\">\n",
       "      <th></th>\n",
       "      <th>CORONA19_ID</th>\n",
       "      <th>CORONA19_DATE</th>\n",
       "      <th>CORONA19_NO</th>\n",
       "      <th>CORONA19_COUNTRY</th>\n",
       "      <th>CORONA19_PERSONAL</th>\n",
       "      <th>CORONA19_AREA</th>\n",
       "      <th>CORONA19_TRAVEL_HISTORY</th>\n",
       "      <th>CORONA19_CONTACT_HISTORY</th>\n",
       "      <th>CORONA19_CORRECTIVE</th>\n",
       "      <th>CORONA19_LEAVE_STATUS</th>\n",
       "      <th>CORONA19_MOVING_PATH</th>\n",
       "      <th>CORONA19_IDATE</th>\n",
       "      <th>CORONA19_MDATE</th>\n",
       "    </tr>\n",
       "  </thead>\n",
       "  <tbody>\n",
       "    <tr>\n",
       "      <th>0</th>\n",
       "      <td>1</td>\n",
       "      <td>1.24.</td>\n",
       "      <td>2</td>\n",
       "      <td>NaN</td>\n",
       "      <td>NaN</td>\n",
       "      <td>강서구</td>\n",
       "      <td>중국 우한시</td>\n",
       "      <td>해외 접촉</td>\n",
       "      <td>NaN</td>\n",
       "      <td>퇴원</td>\n",
       "      <td>이동경로 공개기간 경과</td>\n",
       "      <td>2020-10-19 10:57:09</td>\n",
       "      <td>2020-10-20 09:00:02</td>\n",
       "    </tr>\n",
       "    <tr>\n",
       "      <th>1</th>\n",
       "      <td>2</td>\n",
       "      <td>1.30.</td>\n",
       "      <td>5</td>\n",
       "      <td>NaN</td>\n",
       "      <td>NaN</td>\n",
       "      <td>중랑구</td>\n",
       "      <td>중국 우한시</td>\n",
       "      <td>해외 접촉</td>\n",
       "      <td>NaN</td>\n",
       "      <td>퇴원</td>\n",
       "      <td>이동경로 공개기간 경과</td>\n",
       "      <td>2020-10-19 10:57:09</td>\n",
       "      <td>2020-10-20 09:00:02</td>\n",
       "    </tr>\n",
       "    <tr>\n",
       "      <th>2</th>\n",
       "      <td>3</td>\n",
       "      <td>1.30.</td>\n",
       "      <td>6</td>\n",
       "      <td>NaN</td>\n",
       "      <td>NaN</td>\n",
       "      <td>종로구</td>\n",
       "      <td>NaN</td>\n",
       "      <td>#3 접촉</td>\n",
       "      <td>NaN</td>\n",
       "      <td>퇴원</td>\n",
       "      <td>이동경로 공개기간 경과</td>\n",
       "      <td>2020-10-19 10:57:09</td>\n",
       "      <td>2020-10-20 09:00:02</td>\n",
       "    </tr>\n",
       "    <tr>\n",
       "      <th>3</th>\n",
       "      <td>4</td>\n",
       "      <td>1.30.</td>\n",
       "      <td>7</td>\n",
       "      <td>NaN</td>\n",
       "      <td>NaN</td>\n",
       "      <td>마포구</td>\n",
       "      <td>중국 우한시</td>\n",
       "      <td>해외 접촉</td>\n",
       "      <td>NaN</td>\n",
       "      <td>퇴원</td>\n",
       "      <td>이동경로 공개기간 경과</td>\n",
       "      <td>2020-10-19 10:57:09</td>\n",
       "      <td>2020-10-20 09:00:02</td>\n",
       "    </tr>\n",
       "    <tr>\n",
       "      <th>4</th>\n",
       "      <td>5</td>\n",
       "      <td>1.31.</td>\n",
       "      <td>9</td>\n",
       "      <td>NaN</td>\n",
       "      <td>NaN</td>\n",
       "      <td>성북구</td>\n",
       "      <td>NaN</td>\n",
       "      <td>#5 접촉</td>\n",
       "      <td>NaN</td>\n",
       "      <td>퇴원</td>\n",
       "      <td>이동경로 공개기간 경과</td>\n",
       "      <td>2020-10-19 10:57:09</td>\n",
       "      <td>2020-10-20 09:00:02</td>\n",
       "    </tr>\n",
       "    <tr>\n",
       "      <th>...</th>\n",
       "      <td>...</td>\n",
       "      <td>...</td>\n",
       "      <td>...</td>\n",
       "      <td>...</td>\n",
       "      <td>...</td>\n",
       "      <td>...</td>\n",
       "      <td>...</td>\n",
       "      <td>...</td>\n",
       "      <td>...</td>\n",
       "      <td>...</td>\n",
       "      <td>...</td>\n",
       "      <td>...</td>\n",
       "      <td>...</td>\n",
       "    </tr>\n",
       "    <tr>\n",
       "      <th>5697</th>\n",
       "      <td>5698</td>\n",
       "      <td>10.18.</td>\n",
       "      <td>25234</td>\n",
       "      <td>NaN</td>\n",
       "      <td>NaN</td>\n",
       "      <td>관악구</td>\n",
       "      <td>NaN</td>\n",
       "      <td>송파구 잠언의료기</td>\n",
       "      <td>NaN</td>\n",
       "      <td>NaN</td>\n",
       "      <td>확인중</td>\n",
       "      <td>2020-10-19 10:57:20</td>\n",
       "      <td>2020-10-19 10:57:20</td>\n",
       "    </tr>\n",
       "    <tr>\n",
       "      <th>5698</th>\n",
       "      <td>5699</td>\n",
       "      <td>10.18.</td>\n",
       "      <td>25235</td>\n",
       "      <td>NaN</td>\n",
       "      <td>NaN</td>\n",
       "      <td>성북구</td>\n",
       "      <td>NaN</td>\n",
       "      <td>타시도 확진자 접촉</td>\n",
       "      <td>NaN</td>\n",
       "      <td>NaN</td>\n",
       "      <td>확인중</td>\n",
       "      <td>2020-10-19 10:57:20</td>\n",
       "      <td>2020-10-19 10:57:20</td>\n",
       "    </tr>\n",
       "    <tr>\n",
       "      <th>5699</th>\n",
       "      <td>5700</td>\n",
       "      <td>10.18.</td>\n",
       "      <td>25237</td>\n",
       "      <td>NaN</td>\n",
       "      <td>NaN</td>\n",
       "      <td>동작구</td>\n",
       "      <td>NaN</td>\n",
       "      <td>감염경로 조사중</td>\n",
       "      <td>NaN</td>\n",
       "      <td>NaN</td>\n",
       "      <td>※ 중앙방역대책본부 환자관리팀(’20.10.6.) 확진환자의 이동경로 등 정보공개 ...</td>\n",
       "      <td>2020-10-19 10:57:20</td>\n",
       "      <td>2020-10-19 11:18:02</td>\n",
       "    </tr>\n",
       "    <tr>\n",
       "      <th>5700</th>\n",
       "      <td>5701</td>\n",
       "      <td>10.18.</td>\n",
       "      <td>25244</td>\n",
       "      <td>NaN</td>\n",
       "      <td>NaN</td>\n",
       "      <td>용산구</td>\n",
       "      <td>이란</td>\n",
       "      <td>해외 접촉 추정</td>\n",
       "      <td>NaN</td>\n",
       "      <td>NaN</td>\n",
       "      <td>NaN</td>\n",
       "      <td>2020-10-19 10:57:20</td>\n",
       "      <td>2020-10-19 11:11:00</td>\n",
       "    </tr>\n",
       "    <tr>\n",
       "      <th>5701</th>\n",
       "      <td>5702</td>\n",
       "      <td>10.18.</td>\n",
       "      <td>25268</td>\n",
       "      <td>NaN</td>\n",
       "      <td>NaN</td>\n",
       "      <td>광진구</td>\n",
       "      <td>NaN</td>\n",
       "      <td>타시도 확진자 접촉</td>\n",
       "      <td>NaN</td>\n",
       "      <td>NaN</td>\n",
       "      <td>NaN</td>\n",
       "      <td>2020-10-19 10:57:20</td>\n",
       "      <td>2020-10-19 18:50:16</td>\n",
       "    </tr>\n",
       "  </tbody>\n",
       "</table>\n",
       "<p>5702 rows × 13 columns</p>\n",
       "</div>"
      ],
      "text/plain": [
       "      CORONA19_ID CORONA19_DATE  CORONA19_NO  CORONA19_COUNTRY  \\\n",
       "0               1         1.24.            2               NaN   \n",
       "1               2         1.30.            5               NaN   \n",
       "2               3         1.30.            6               NaN   \n",
       "3               4         1.30.            7               NaN   \n",
       "4               5         1.31.            9               NaN   \n",
       "...           ...           ...          ...               ...   \n",
       "5697         5698        10.18.        25234               NaN   \n",
       "5698         5699        10.18.        25235               NaN   \n",
       "5699         5700        10.18.        25237               NaN   \n",
       "5700         5701        10.18.        25244               NaN   \n",
       "5701         5702        10.18.        25268               NaN   \n",
       "\n",
       "      CORONA19_PERSONAL CORONA19_AREA CORONA19_TRAVEL_HISTORY  \\\n",
       "0                   NaN           강서구                  중국 우한시   \n",
       "1                   NaN           중랑구                  중국 우한시   \n",
       "2                   NaN           종로구                     NaN   \n",
       "3                   NaN           마포구                  중국 우한시   \n",
       "4                   NaN           성북구                     NaN   \n",
       "...                 ...           ...                     ...   \n",
       "5697                NaN           관악구                     NaN   \n",
       "5698                NaN           성북구                     NaN   \n",
       "5699                NaN           동작구                     NaN   \n",
       "5700                NaN           용산구                      이란   \n",
       "5701                NaN           광진구                     NaN   \n",
       "\n",
       "     CORONA19_CONTACT_HISTORY  CORONA19_CORRECTIVE CORONA19_LEAVE_STATUS  \\\n",
       "0                       해외 접촉                  NaN                    퇴원   \n",
       "1                       해외 접촉                  NaN                    퇴원   \n",
       "2                       #3 접촉                  NaN                    퇴원   \n",
       "3                       해외 접촉                  NaN                    퇴원   \n",
       "4                       #5 접촉                  NaN                    퇴원   \n",
       "...                       ...                  ...                   ...   \n",
       "5697                송파구 잠언의료기                  NaN                   NaN   \n",
       "5698               타시도 확진자 접촉                  NaN                   NaN   \n",
       "5699                 감염경로 조사중                  NaN                   NaN   \n",
       "5700                 해외 접촉 추정                  NaN                   NaN   \n",
       "5701               타시도 확진자 접촉                  NaN                   NaN   \n",
       "\n",
       "                                   CORONA19_MOVING_PATH       CORONA19_IDATE  \\\n",
       "0                                          이동경로 공개기간 경과  2020-10-19 10:57:09   \n",
       "1                                          이동경로 공개기간 경과  2020-10-19 10:57:09   \n",
       "2                                          이동경로 공개기간 경과  2020-10-19 10:57:09   \n",
       "3                                          이동경로 공개기간 경과  2020-10-19 10:57:09   \n",
       "4                                          이동경로 공개기간 경과  2020-10-19 10:57:09   \n",
       "...                                                 ...                  ...   \n",
       "5697                                                확인중  2020-10-19 10:57:20   \n",
       "5698                                                확인중  2020-10-19 10:57:20   \n",
       "5699  ※ 중앙방역대책본부 환자관리팀(’20.10.6.) 확진환자의 이동경로 등 정보공개 ...  2020-10-19 10:57:20   \n",
       "5700                                                NaN  2020-10-19 10:57:20   \n",
       "5701                                                NaN  2020-10-19 10:57:20   \n",
       "\n",
       "           CORONA19_MDATE  \n",
       "0     2020-10-20 09:00:02  \n",
       "1     2020-10-20 09:00:02  \n",
       "2     2020-10-20 09:00:02  \n",
       "3     2020-10-20 09:00:02  \n",
       "4     2020-10-20 09:00:02  \n",
       "...                   ...  \n",
       "5697  2020-10-19 10:57:20  \n",
       "5698  2020-10-19 10:57:20  \n",
       "5699  2020-10-19 11:18:02  \n",
       "5700  2020-10-19 11:11:00  \n",
       "5701  2020-10-19 18:50:16  \n",
       "\n",
       "[5702 rows x 13 columns]"
      ]
     },
     "execution_count": 15,
     "metadata": {},
     "output_type": "execute_result"
    }
   ],
   "source": [
    "#잘 내보냈는지 확인 (글자깨짐 등등)\n",
    "pd.read_csv('data/covid19_seoul.csv',encoding='ms949')"
   ]
  },
  {
   "cell_type": "code",
   "execution_count": null,
   "metadata": {},
   "outputs": [],
   "source": []
  }
 ],
 "metadata": {
  "kernelspec": {
   "display_name": "Python 3",
   "language": "python",
   "name": "python3"
  },
  "language_info": {
   "codemirror_mode": {
    "name": "ipython",
    "version": 3
   },
   "file_extension": ".py",
   "mimetype": "text/x-python",
   "name": "python",
   "nbconvert_exporter": "python",
   "pygments_lexer": "ipython3",
   "version": "3.8.3"
  }
 },
 "nbformat": 4,
 "nbformat_minor": 2
}
